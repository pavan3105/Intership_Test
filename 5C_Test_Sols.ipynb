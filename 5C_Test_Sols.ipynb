{
 "cells": [
  {
   "cell_type": "markdown",
   "metadata": {},
   "source": [
    "# Internship Test Solutions"
   ]
  },
  {
   "cell_type": "markdown",
   "metadata": {},
   "source": [
    "#### Importing csv and numpy"
   ]
  },
  {
   "cell_type": "code",
   "execution_count": 14,
   "metadata": {},
   "outputs": [],
   "source": [
    "import csv\n",
    "import numpy as np"
   ]
  },
  {
   "cell_type": "code",
   "execution_count": 15,
   "metadata": {},
   "outputs": [],
   "source": [
    "#reading csv file using a csv file reader without using pandas, appending all rows into rows_list\n",
    "rows_list=[]\n",
    "with open('dataset.csv', 'r') as file:\n",
    "    file_reader = csv.reader(file, delimiter=',')\n",
    "    for row in file_reader:\n",
    "        rows_list.append(row)"
   ]
  },
  {
   "cell_type": "code",
   "execution_count": 16,
   "metadata": {},
   "outputs": [],
   "source": [
    "#Changing string to int data type\n",
    "for i in range(1,len(rows_list)):\n",
    "    for j in range(len(rows_list[0])):\n",
    "        rows_list[i][j]=int(rows_list[i][j])"
   ]
  },
  {
   "cell_type": "code",
   "execution_count": 17,
   "metadata": {},
   "outputs": [],
   "source": [
    "#Extracting all rows except column names into a numpy 2-D array\n",
    "dfn=np.array(rows_list[1:][:])"
   ]
  },
  {
   "cell_type": "code",
   "execution_count": 18,
   "metadata": {},
   "outputs": [
    {
     "data": {
      "text/plain": [
       "array([[    1,     4,     1, ...,    44,  1233,     1],\n",
       "       [    2,     5,     1, ...,    59,  3088,     1],\n",
       "       [    3,     1,     1, ...,    48,  3374,     1],\n",
       "       ...,\n",
       "       [10997,     3,     3, ...,     4,  1155,     0],\n",
       "       [10998,     5,     3, ...,     2,  1210,     0],\n",
       "       [10999,     4,     3, ...,     6,  1639,     0]])"
      ]
     },
     "execution_count": 18,
     "metadata": {},
     "output_type": "execute_result"
    }
   ],
   "source": [
    "dfn"
   ]
  },
  {
   "cell_type": "code",
   "execution_count": 19,
   "metadata": {},
   "outputs": [],
   "source": [
    "l=rows_list #just creating anthoer reference 'l' to rows_list"
   ]
  },
  {
   "cell_type": "code",
   "execution_count": 20,
   "metadata": {},
   "outputs": [],
   "source": [
    "#Function to print Main Menu and to ask input option from user\n",
    "def print_options():\n",
    "    print('Main Menu')\n",
    "    print('1.    Compute Correlation')\n",
    "    print('2.    Ranked List of 30 Largest Shipments (by warehouse block)')\n",
    "    print('3.    List of 30 Orders with Lowest Cost/Weight ratios')\n",
    "    print('0.    Exit')\n",
    "    print()\n",
    "    opt=eval(input('Enter your option:'))\n",
    "    return opt"
   ]
  },
  {
   "cell_type": "code",
   "execution_count": 21,
   "metadata": {},
   "outputs": [],
   "source": [
    "#Function to complete correlation between 2 given columns\n",
    "def comp_correlation():\n",
    "    print()\n",
    "    print('List of header names for calculating correlation')\n",
    "    for col in range(len(rows_list[0])):\n",
    "        print(col,rows_list[0][col])\n",
    "    col1=eval(input('Enter the number for the first quantity'))\n",
    "    col2=eval(input('Enter the number for the second quantity'))\n",
    "    col1_vals,col2_vals=[],[]\n",
    "    #storing 2 cols values in 2 lists\n",
    "    for i in range(1,len(l)):\n",
    "        col1_vals.append(rows_list[i][col1])\n",
    "        col2_vals.append(rows_list[i][col2])\n",
    "    # morphing the lists into numpy array\n",
    "    corrlst=np.corrcoef(col1_vals,col2_vals)\n",
    "    corr=round(corrlst[1][0],3)# rounding to 3 decimal places\n",
    "    print('The Correlation between',rows_list[0][col1],'and',rows_list[0][col2],'is',corr)\n",
    "    print()"
   ]
  },
  {
   "cell_type": "code",
   "execution_count": 22,
   "metadata": {},
   "outputs": [],
   "source": [
    "def largest_shipment():\n",
    "    print()\n",
    "    block=eval(input('Enter warehouse block number(1 to 5):'))\n",
    "    if block not  in [1,2,3,4,5]:\n",
    "        print('Invalid')\n",
    "    else:\n",
    "        print()\n",
    "        match_ind=np.where(dfn[:,1]==block) #Getting indices of the rows having given block number\n",
    "        filt_dfn=dfn[match_ind]            #Filtering those rows\n",
    "        so=filt_dfn[filt_dfn[:, 10].argsort(kind='mergesort')]#Sorting the array based on Weight_in_gms(ascending order)\n",
    "        fil1=so[::-1,:]   #reversing to convert into descending order\n",
    "        res=fil1[:30,[0,2,5,7,10,11]]#Filtering for the columns mentioned in output\n",
    "        #printing the resultant array in required format\n",
    "        print('List of 30 Largest Shipments by weight for warehouse Block',block)\n",
    "        print()\n",
    "        print(l[0][0][3:],' ',l[0][2],' ',l[0][5],' ',l[0][7],' ',l[0][10],' ',l[0][11])\n",
    "        print('\\n'.join(['  '.join(['{:15}'.format(i) for i in row]) for row in res]))"
   ]
  },
  {
   "cell_type": "code",
   "execution_count": 23,
   "metadata": {},
   "outputs": [],
   "source": [
    "def lowest_ratio():\n",
    "    print()\n",
    "    costs,weights=list(dfn[:,5]),list(dfn[:,10]) # storing 2 cols values in 2 lists\n",
    "    ratio=map(lambda c,w:c/w,list(costs),list(weights))#lambda function to calculate ratios\n",
    "    ratios=np.around(list(ratio),decimals=6)#rounding off to 6 decimal places\n",
    "    dfnr=dfn.reshape(np.shape(dfn)[0]*np.shape(dfn)[1])#reshaping to 1-D numpy array\n",
    "    dfnr=dfnr.astype(np.float)\n",
    "    # loop for inserting the ratio values\n",
    "    print('Executing......')\n",
    "    j=0\n",
    "    for i in range(12,142987,13):\n",
    "        dfnr=np.insert(dfnr,i,round(ratios[j],6))\n",
    "        j+=1\n",
    "    #reshaping back to 2-D array with 13 columns\n",
    "    dfn_res=dfnr.reshape(10999,13)\n",
    "    #sorting based on ratio column\n",
    "    sort_ratio=dfn_res[dfn_res[:, 12].argsort(kind='mergesort')]\n",
    "    #filtering only required  columns and 30 customer orders with lowest ratios\n",
    "    res=sort_ratio[:30,[0,2,5,7,10,12]]\n",
    "    print('List of 30 orders with lowest Cost/Weight ratio')\n",
    "    print()\n",
    "    print(l[0][0][3:],' ',l[0][2],' ',l[0][5],' ',l[0][7],' ',l[0][10],' ','Cost/wt Ratio- in US$/g')\n",
    "    print('\\n'.join(['  '.join(['{:15}'.format(i) for i in row ]) for row in res]))"
   ]
  },
  {
   "cell_type": "code",
   "execution_count": 24,
   "metadata": {
    "scrolled": true
   },
   "outputs": [
    {
     "name": "stdout",
     "output_type": "stream",
     "text": [
      "Main Menu\n",
      "1.    Compute Correlation\n",
      "2.    Ranked List of 30 Largest Shipments (by warehouse block)\n",
      "3.    List of 30 Orders with Lowest Cost/Weight ratios\n",
      "0.    Exit\n",
      "\n",
      "Enter your option:1\n",
      "\n",
      "List of header names for calculating correlation\n",
      "0 ï»¿TransactionID\n",
      "1 Warehouse_block\n",
      "2 Mode_of_Shipment\n",
      "3 Customer_care_calls\n",
      "4 Customer_rating\n",
      "5 Cost_of_the_Product\n",
      "6 Prior_purchases\n",
      "7 Product_importance\n",
      "8 Gender\n",
      "9 Discount_offered_in_pct\n",
      "10 Weight_in_gms\n",
      "11 Reached_on_Time\n",
      "Enter the number for the first quantity3\n",
      "Enter the number for the second quantity6\n",
      "The Correlation between Customer_care_calls and Prior_purchases is 0.181\n",
      "\n",
      "Main Menu\n",
      "1.    Compute Correlation\n",
      "2.    Ranked List of 30 Largest Shipments (by warehouse block)\n",
      "3.    List of 30 Orders with Lowest Cost/Weight ratios\n",
      "0.    Exit\n",
      "\n",
      "Enter your option:2\n",
      "\n",
      "Enter warehouse block number(1 to 5):3\n",
      "\n",
      "List of 30 Largest Shipments by weight for warehouse Block 3\n",
      "\n",
      "TransactionID   Mode_of_Shipment   Cost_of_the_Product   Product_importance   Weight_in_gms   Reached_on_Time\n",
      "            245                3              142                2             6064                1\n",
      "           4685                3              261                1             5994                1\n",
      "           5747                2              263                3             5991                1\n",
      "           3719                3              193                3             5991                1\n",
      "           6413                2              215                2             5988                1\n",
      "           6449                1              150                1             5987                0\n",
      "           5009                3              262                3             5985                1\n",
      "           8111                3              144                2             5983                0\n",
      "           4751                3              272                1             5983                1\n",
      "          10535                2              152                2             5981                0\n",
      "          10607                3              209                3             5979                0\n",
      "           3755                3              111                3             5978                1\n",
      "           7037                3              223                2             5977                0\n",
      "           8201                2              169                1             5976                0\n",
      "           8729                3              238                2             5974                0\n",
      "           3683                2              174                3             5969                1\n",
      "           7307                3              181                1             5966                1\n",
      "           5075                1              217                2             5966                0\n",
      "           7055                3              181                2             5964                0\n",
      "           6107                3              246                3             5960                0\n",
      "           3701                1              183                1             5959                1\n",
      "           3137                2              219                1             5956                0\n",
      "           3233                3              255                1             5955                1\n",
      "          10493                3              153                2             5952                0\n",
      "           4499                2              269                2             5951                0\n",
      "           4157                3              270                2             5950                1\n",
      "           7523                2              213                2             5947                0\n",
      "           4067                3              150                2             5944                0\n",
      "           5345                1              241                2             5942                1\n",
      "           9341                3              177                1             5941                0\n",
      "Main Menu\n",
      "1.    Compute Correlation\n",
      "2.    Ranked List of 30 Largest Shipments (by warehouse block)\n",
      "3.    List of 30 Orders with Lowest Cost/Weight ratios\n",
      "0.    Exit\n",
      "\n",
      "Enter your option:3\n",
      "\n",
      "Executing......\n",
      "List of 30 orders with lowest Cost/Weight ratio\n",
      "\n",
      "TransactionID   Mode_of_Shipment   Cost_of_the_Product   Product_importance   Weight_in_gms   Cost/wt Ratio- in US$/g\n",
      "         4032.0              3.0             98.0              1.0           5946.0         0.016482\n",
      "         7930.0              2.0             97.0              1.0           5801.0         0.016721\n",
      "         9784.0              3.0             99.0              2.0           5903.0         0.016771\n",
      "         7893.0              3.0             99.0              1.0           5872.0          0.01686\n",
      "         6769.0              3.0            100.0              2.0           5841.0          0.01712\n",
      "         8126.0              3.0            102.0              2.0           5936.0         0.017183\n",
      "         3612.0              3.0            100.0              1.0           5776.0         0.017313\n",
      "         4131.0              3.0            100.0              1.0           5756.0         0.017373\n",
      "         5146.0              3.0             97.0              3.0           5509.0         0.017608\n",
      "         3476.0              3.0            100.0              1.0           5668.0         0.017643\n",
      "         9486.0              3.0             98.0              2.0           5553.0         0.017648\n",
      "         9513.0              3.0            102.0              1.0           5767.0         0.017687\n",
      "         4831.0              3.0            106.0              1.0           5984.0         0.017714\n",
      "         6687.0              2.0            105.0              3.0           5824.0         0.018029\n",
      "         8144.0              3.0            106.0              2.0           5867.0         0.018067\n",
      "        10035.0              3.0            102.0              3.0           5644.0         0.018072\n",
      "         7239.0              2.0             99.0              2.0           5470.0         0.018099\n",
      "         8059.0              2.0            101.0              2.0           5560.0         0.018165\n",
      "         4535.0              1.0            108.0              2.0           5928.0         0.018219\n",
      "         5130.0              3.0            108.0              1.0           5924.0         0.018231\n",
      "         6752.0              3.0            109.0              3.0           5978.0         0.018234\n",
      "         7298.0              3.0            104.0              3.0           5652.0         0.018401\n",
      "         4159.0              3.0            100.0              1.0           5398.0         0.018525\n",
      "         7634.0              3.0            111.0              2.0           5988.0         0.018537\n",
      "         3755.0              3.0            111.0              3.0           5978.0         0.018568\n",
      "          199.0              3.0            142.0              2.0           7640.0         0.018586\n",
      "         8062.0              2.0            104.0              1.0           5590.0         0.018605\n",
      "         8686.0              3.0            102.0              2.0           5421.0         0.018816\n",
      "         9230.0              3.0            113.0              2.0           5993.0         0.018855\n",
      "         4112.0              1.0            106.0              1.0           5615.0         0.018878\n",
      "Main Menu\n",
      "1.    Compute Correlation\n",
      "2.    Ranked List of 30 Largest Shipments (by warehouse block)\n",
      "3.    List of 30 Orders with Lowest Cost/Weight ratios\n",
      "0.    Exit\n",
      "\n",
      "Enter your option:0\n"
     ]
    }
   ],
   "source": [
    "opt=print_options()\n",
    "while opt!=0:\n",
    "    if(opt==1):\n",
    "        comp_correlation()\n",
    "    elif(opt==2):\n",
    "        largest_shipment()\n",
    "    elif(opt==3):\n",
    "        lowest_ratio()\n",
    "    else:\n",
    "        print(\"-----------Invalid Choice, Select again in 1,2,3,0-----------------\")\n",
    "    opt=print_options()"
   ]
  },
  {
   "cell_type": "code",
   "execution_count": null,
   "metadata": {},
   "outputs": [],
   "source": []
  }
 ],
 "metadata": {
  "kernelspec": {
   "display_name": "Python 3",
   "language": "python",
   "name": "python3"
  },
  "language_info": {
   "codemirror_mode": {
    "name": "ipython",
    "version": 3
   },
   "file_extension": ".py",
   "mimetype": "text/x-python",
   "name": "python",
   "nbconvert_exporter": "python",
   "pygments_lexer": "ipython3",
   "version": "3.7.6"
  }
 },
 "nbformat": 4,
 "nbformat_minor": 4
}
